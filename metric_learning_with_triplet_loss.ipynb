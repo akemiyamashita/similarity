{
  "nbformat": 4,
  "nbformat_minor": 0,
  "metadata": {
    "colab": {
      "name": "metric learning with triplet loss",
      "provenance": [],
      "collapsed_sections": [],
      "authorship_tag": "ABX9TyNQosYb2kTMPKR8OfE60Q7j",
      "include_colab_link": true
    },
    "kernelspec": {
      "name": "python3",
      "display_name": "Python 3"
    }
  },
  "cells": [
    {
      "cell_type": "markdown",
      "metadata": {
        "id": "view-in-github",
        "colab_type": "text"
      },
      "source": [
        "<a href=\"https://colab.research.google.com/github/akemiyamashita/similarity/blob/main/metric_learning_with_triplet_loss.ipynb\" target=\"_parent\"><img src=\"https://colab.research.google.com/assets/colab-badge.svg\" alt=\"Open In Colab\"/></a>"
      ]
    },
    {
      "cell_type": "code",
      "metadata": {
        "id": "Gl-F7qxoDyC0"
      },
      "source": [
        "train = []\n",
        "train_fn = []\n",
        "for fn in glob.glob('train/*/*.png'):\n",
        "    img = Image.open(fn).convert('L')\n",
        "    x = np.array(img, dtype=np.float32)\n",
        "    x = x.reshape((1, 28, 28))  ##　畳み込みニューラルネットワークの場合\n",
        "    train.append(x)\n",
        "    train_fn.append(fn.split('/')[1])\n",
        "train = np.array(train)\n",
        " \n",
        "# Metric学習のデータを取得する関数\n",
        "triplet_pos = 0\n",
        "# 一枚画像を取得\n",
        "def get_one():\n",
        "    global triplet_pos\n",
        "    data = train[triplet_pos]\n",
        "    triplet_pos = triplet_pos+1\n",
        "    if triplet_pos >= len(train):\n",
        "        triplet_pos = 0\n",
        "    return data\n",
        " \n",
        "# 1トリプレットを取得\n",
        "def get_one_triple():\n",
        "    if random.random() < 0.5:\n",
        "        c = get_one()\n",
        "        d = np.zeros(c.shape, dtype=np.float32)\n",
        "        e = np.zeros(c.shape, dtype=np.float32) + 255\n",
        "    else:\n",
        "        d = get_one()\n",
        "        e = get_one()\n",
        "        c = np.zeros(d.shape, dtype=np.float32)\n",
        "        if random.random() < 0.5:\n",
        "            c = c + 255\n",
        "    return (c,d,e)"
      ],
      "execution_count": null,
      "outputs": []
    },
    {
      "cell_type": "code",
      "metadata": {
        "id": "zL6uASZGEAiH"
      },
      "source": [
        "class NMIST_Triplet_NN(chainer.Chain):\n",
        " \n",
        "    def __init__(self):\n",
        "        super(NMIST_Triplet_NN, self).__init__()\n",
        "        with self.init_scope():\n",
        "            self.layer1 = L.Linear(28*28, 50)\n",
        "            self.layer2 = L.Linear(50, 50)\n",
        "            self.layer3 = L.Linear(50, 50)\n",
        "            self.layer4 = L.Linear(50, 2)\n",
        " \n",
        "    def __call__(self, x):\n",
        "        # ニューラルネットワークによるMetric認識\n",
        "        x = F.tanh(self.layer1(x))\n",
        "        x = F.tanh(self.layer2(x))\n",
        "        x = F.tanh(self.layer3(x))\n",
        "        return self.layer4(x)"
      ],
      "execution_count": null,
      "outputs": []
    },
    {
      "cell_type": "code",
      "metadata": {
        "id": "k8cidGrtEEfF"
      },
      "source": [
        "class TripletUpdater(training.StandardUpdater):\n",
        " \n",
        "    def __init__(self, optimizer, device):\n",
        "        self.loss_val = []\n",
        "        super(TripletUpdater, self).__init__(\n",
        "            None,\n",
        "            optimizer,\n",
        "            device=device\n",
        "        )\n",
        " \n",
        "    # イテレーターがNoneなのでエラーが出ないようにオーバライドする\n",
        "    @property\n",
        "    def epoch(self):\n",
        "        return 0\n",
        " \n",
        "    @property\n",
        "    def epoch_detail(self):\n",
        "        return 0.0\n",
        " \n",
        "    @property\n",
        "    def previous_epoch_detail(self):\n",
        "        return 0.0\n",
        " \n",
        "    @property\n",
        "    def is_new_epoch(self):\n",
        "        return False\n",
        "         \n",
        "    def finalize(self):\n",
        "        pass\n",
        "     \n",
        "    def update_core(self):\n",
        "        batch_size = 1000\n",
        "        # Optimizerを取得\n",
        "        optimizer = self.get_optimizer('main')\n",
        "        # Tripletを取得\n",
        "        anchor = []\n",
        "        positive = []\n",
        "        negative = []\n",
        "        for i in range(batch_size):\n",
        "            in_data = get_one_triple()\n",
        "            anchor.append(in_data[0])\n",
        "            positive.append(in_data[1])\n",
        "            negative.append(in_data[2])\n",
        "        anchor = np.array(anchor)\n",
        "        positive = np.array(positive)\n",
        "        negative = np.array(negative)\n",
        "        # ニューラルネットワークを3回実行\n",
        "        model = optimizer.target\n",
        "        anchor_r = model(anchor)\n",
        "        positive_r = model(positive)\n",
        "        negative_r = model(negative)\n",
        "        # Triplet Lossで学習\n",
        "        optimizer.update(F.triplet, anchor_r, positive_r, negative_r)"
      ],
      "execution_count": null,
      "outputs": []
    },
    {
      "cell_type": "code",
      "metadata": {
        "id": "VXaMNxsEEFZH"
      },
      "source": [
        "from sklearn import cluster\n",
        "clf = cluster.AgglomerativeClustering(n_clusters=2, linkage='average', affinity='l2')\n",
        "clz = clf.fit_predict(result.data)\n",
        "# クラスタ番号が0か1なので、0以外の数を数えて、クラスタの大きさを比較\n",
        "count1 = np.count_nonzero(clz)\n",
        "count2 = len(clz) - count1\n",
        "# 小さい方のクラスタを取得\n",
        "clzidx = 1 if count1 < count2 else 0\n",
        "# 小さい方のクラスタに属しているインデックスを取得\n",
        "idx = np.argwhere(clz==clzidx)[:,0]\n",
        " \n",
        "# 色分けして保存\n",
        "im2 = Image.new('RGB', (1000,1000), (0xff,0xff,0xff))\n",
        "draw = ImageDraw.Draw(im2)\n",
        "for i in range(len(result.data)):\n",
        "    l = test_fn[i]\n",
        "    c = (0xff,0,0) if clz[i] == clzidx else (0x80,0x80,0x80)\n",
        "    x = int((result.data[i][0]-xmin) / (xmax-xmin) * 900 + 50)\n",
        "    y = int((result.data[i][1]-ymin) / (ymax-ymin) * 900 + 50)\n",
        "    draw.text((x, y), l, c)\n",
        "im2.save('clusters.png', 'PNG')"
      ],
      "execution_count": null,
      "outputs": []
    }
  ]
}